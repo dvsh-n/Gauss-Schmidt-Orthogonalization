{
 "cells": [
  {
   "cell_type": "code",
   "execution_count": 36,
   "metadata": {},
   "outputs": [],
   "source": [
    "import numpy as np\n",
    "np.set_printoptions(precision=4)"
   ]
  },
  {
   "cell_type": "code",
   "execution_count": 28,
   "metadata": {},
   "outputs": [],
   "source": [
    "def proj(x, y): # Proj of X on Y\n",
    "    return np.dot(x.T, y)*y"
   ]
  },
  {
   "cell_type": "code",
   "execution_count": 29,
   "metadata": {},
   "outputs": [],
   "source": [
    "def mag(x):\n",
    "    return np.linalg.norm(x)"
   ]
  },
  {
   "cell_type": "code",
   "execution_count": 30,
   "metadata": {},
   "outputs": [],
   "source": [
    "def GS_orthogonalization(A): # Rows are a1, a2 ... ai\n",
    "    temp = np.zeros((A.shape[1]), dtype=float)\n",
    "    for i in range(len(A)):\n",
    "        temp = A[i]\n",
    "        for j in range(i):\n",
    "            A[i] -= proj(temp, A[j])\n",
    "        A[i] /= mag(A[i])\n",
    "    return A"
   ]
  },
  {
   "cell_type": "code",
   "execution_count": 56,
   "metadata": {},
   "outputs": [],
   "source": [
    "def clean(A, threshold = 1e-10):\n",
    "    mask = np.where(abs(A)<threshold, 0, A)\n",
    "    return mask\n",
    "        "
   ]
  },
  {
   "cell_type": "code",
   "execution_count": 59,
   "metadata": {},
   "outputs": [
    {
     "name": "stdout",
     "output_type": "stream",
     "text": [
      "[[ 0.5774 -0.5774  0.5774]\n",
      " [ 0.4082  0.8165  0.4082]\n",
      " [-0.7071  0.      0.7071]]\n"
     ]
    }
   ],
   "source": [
    "A = np.array([[1, -1, 1], [1, 0,1], [1,1,2]], dtype=float)\n",
    "res = clean(GS_orthogonalization(A))\n",
    "print(res)"
   ]
  }
 ],
 "metadata": {
  "kernelspec": {
   "display_name": "Python 3",
   "language": "python",
   "name": "python3"
  },
  "language_info": {
   "codemirror_mode": {
    "name": "ipython",
    "version": 3
   },
   "file_extension": ".py",
   "mimetype": "text/x-python",
   "name": "python",
   "nbconvert_exporter": "python",
   "pygments_lexer": "ipython3",
   "version": "3.10.6"
  }
 },
 "nbformat": 4,
 "nbformat_minor": 2
}
