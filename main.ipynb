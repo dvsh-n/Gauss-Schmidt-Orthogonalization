{
 "cells": [
  {
   "cell_type": "code",
   "execution_count": 2,
   "metadata": {},
   "outputs": [],
   "source": [
    "import numpy as np\n",
    "np.set_printoptions(precision=4)"
   ]
  },
  {
   "cell_type": "code",
   "execution_count": 3,
   "metadata": {},
   "outputs": [],
   "source": [
    "def proj(x, y): # Proj of X on Y\n",
    "    return np.dot(x.T, y)*y"
   ]
  },
  {
   "cell_type": "code",
   "execution_count": 4,
   "metadata": {},
   "outputs": [],
   "source": [
    "def mag(x):\n",
    "    return np.linalg.norm(x)"
   ]
  },
  {
   "cell_type": "code",
   "execution_count": 5,
   "metadata": {},
   "outputs": [],
   "source": [
    "def GS_orthogonalization(A): # Rows are a1, a2 ... ai\n",
    "    temp = np.zeros((A.shape[1]), dtype=float)\n",
    "    for i in range(len(A)):\n",
    "        temp = A[i]\n",
    "        for j in range(i):\n",
    "            A[i] -= proj(temp, A[j])\n",
    "        A[i] /= mag(A[i])\n",
    "    return A"
   ]
  },
  {
   "cell_type": "markdown",
   "metadata": {},
   "source": [
    "Cleaning for values less than threshold becaus some values are very close to 0 like 1e-20 in the result which should be 0"
   ]
  },
  {
   "cell_type": "code",
   "execution_count": 6,
   "metadata": {},
   "outputs": [],
   "source": [
    "def clean(A, threshold = 1e-10):\n",
    "    mask = np.where(abs(A)<threshold, 0, A)\n",
    "    return mask"
   ]
  },
  {
   "cell_type": "markdown",
   "metadata": {},
   "source": [
    "Code for testing orthogonality"
   ]
  },
  {
   "cell_type": "code",
   "execution_count": 17,
   "metadata": {},
   "outputs": [],
   "source": [
    "def orth_test(A, threshold = 1e-10):\n",
    "    orthogonal = True\n",
    "    for i in range(len(A)):\n",
    "        for j in range(i+1,len(A)):\n",
    "            mult = np.dot(A[i], A[j].T)\n",
    "            if mult > threshold:\n",
    "                orthogonal = False\n",
    "    return orthogonal"
   ]
  },
  {
   "cell_type": "code",
   "execution_count": 22,
   "metadata": {},
   "outputs": [
    {
     "name": "stdout",
     "output_type": "stream",
     "text": [
      "[[ 0.5774 -0.5774  0.5774]\n",
      " [ 0.4082  0.8165  0.4082]\n",
      " [-0.7071  0.      0.7071]]\n",
      "Orthogonality Test (True if orthogonal):  True\n"
     ]
    }
   ],
   "source": [
    "A = np.array([[1, -1, 1], [1, 0,1], [1,1,2]], dtype=float) # HW Problem\n",
    "res = clean(GS_orthogonalization(A))\n",
    "print(res)\n",
    "print(\"Orthogonality Test (True if orthogonal): \", orth_test(res))"
   ]
  },
  {
   "cell_type": "markdown",
   "metadata": {},
   "source": [
    "Test with random matrices"
   ]
  },
  {
   "cell_type": "code",
   "execution_count": 24,
   "metadata": {},
   "outputs": [
    {
     "name": "stdout",
     "output_type": "stream",
     "text": [
      "[[ 0.5822  0.5237  0.3657  0.0584  0.4996]\n",
      " [-0.3962  0.4721 -0.2722  0.7346  0.0801]\n",
      " [-0.3545  0.0655  0.8718  0.1233 -0.308 ]\n",
      " [ 0.4485  0.3594 -0.1361  0.0483 -0.8055]\n",
      " [ 0.421  -0.6077  0.1172  0.6629 -0.0169]]\n",
      "Orthogonality Test (True if orthogonal):  True\n"
     ]
    }
   ],
   "source": [
    "test_matrix = np.random.rand(5,5)\n",
    "test_res = clean(GS_orthogonalization(test_matrix))\n",
    "print(test_res)\n",
    "print(\"Orthogonality Test (True if orthogonal): \", orth_test(test_res))\n"
   ]
  }
 ],
 "metadata": {
  "kernelspec": {
   "display_name": "Python 3",
   "language": "python",
   "name": "python3"
  },
  "language_info": {
   "codemirror_mode": {
    "name": "ipython",
    "version": 3
   },
   "file_extension": ".py",
   "mimetype": "text/x-python",
   "name": "python",
   "nbconvert_exporter": "python",
   "pygments_lexer": "ipython3",
   "version": "3.10.6"
  }
 },
 "nbformat": 4,
 "nbformat_minor": 2
}
